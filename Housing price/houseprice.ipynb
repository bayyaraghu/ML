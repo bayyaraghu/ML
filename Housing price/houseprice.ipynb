{
 "cells": [
  {
   "cell_type": "markdown",
   "metadata": {},
   "source": [
    "# from medium.com/markitosanches, with NEURAL NETWORK KERAS TENSERFLOW"
   ]
  },
  {
   "cell_type": "code",
   "execution_count": 71,
   "metadata": {},
   "outputs": [],
   "source": [
    "import pandas as pd\n"
   ]
  },
  {
   "cell_type": "code",
   "execution_count": 72,
   "metadata": {},
   "outputs": [
    {
     "data": {
      "text/html": [
       "<div>\n",
       "<style scoped>\n",
       "    .dataframe tbody tr th:only-of-type {\n",
       "        vertical-align: middle;\n",
       "    }\n",
       "\n",
       "    .dataframe tbody tr th {\n",
       "        vertical-align: top;\n",
       "    }\n",
       "\n",
       "    .dataframe thead th {\n",
       "        text-align: right;\n",
       "    }\n",
       "</style>\n",
       "<table border=\"1\" class=\"dataframe\">\n",
       "  <thead>\n",
       "    <tr style=\"text-align: right;\">\n",
       "      <th></th>\n",
       "      <th>LotArea</th>\n",
       "      <th>OverallQual</th>\n",
       "      <th>OverallCond</th>\n",
       "      <th>TotalBsmtSF</th>\n",
       "      <th>FullBath</th>\n",
       "      <th>HalfBath</th>\n",
       "      <th>BedroomAbvGr</th>\n",
       "      <th>TotRmsAbvGrd</th>\n",
       "      <th>Fireplaces</th>\n",
       "      <th>GarageArea</th>\n",
       "      <th>AboveMedianPrice</th>\n",
       "    </tr>\n",
       "  </thead>\n",
       "  <tbody>\n",
       "    <tr>\n",
       "      <td>0</td>\n",
       "      <td>8450</td>\n",
       "      <td>7</td>\n",
       "      <td>5</td>\n",
       "      <td>856</td>\n",
       "      <td>2</td>\n",
       "      <td>1</td>\n",
       "      <td>3</td>\n",
       "      <td>8</td>\n",
       "      <td>0</td>\n",
       "      <td>548</td>\n",
       "      <td>1</td>\n",
       "    </tr>\n",
       "    <tr>\n",
       "      <td>1</td>\n",
       "      <td>9600</td>\n",
       "      <td>6</td>\n",
       "      <td>8</td>\n",
       "      <td>1262</td>\n",
       "      <td>2</td>\n",
       "      <td>0</td>\n",
       "      <td>3</td>\n",
       "      <td>6</td>\n",
       "      <td>1</td>\n",
       "      <td>460</td>\n",
       "      <td>1</td>\n",
       "    </tr>\n",
       "    <tr>\n",
       "      <td>2</td>\n",
       "      <td>11250</td>\n",
       "      <td>7</td>\n",
       "      <td>5</td>\n",
       "      <td>920</td>\n",
       "      <td>2</td>\n",
       "      <td>1</td>\n",
       "      <td>3</td>\n",
       "      <td>6</td>\n",
       "      <td>1</td>\n",
       "      <td>608</td>\n",
       "      <td>1</td>\n",
       "    </tr>\n",
       "    <tr>\n",
       "      <td>3</td>\n",
       "      <td>9550</td>\n",
       "      <td>7</td>\n",
       "      <td>5</td>\n",
       "      <td>756</td>\n",
       "      <td>1</td>\n",
       "      <td>0</td>\n",
       "      <td>3</td>\n",
       "      <td>7</td>\n",
       "      <td>1</td>\n",
       "      <td>642</td>\n",
       "      <td>0</td>\n",
       "    </tr>\n",
       "    <tr>\n",
       "      <td>4</td>\n",
       "      <td>14260</td>\n",
       "      <td>8</td>\n",
       "      <td>5</td>\n",
       "      <td>1145</td>\n",
       "      <td>2</td>\n",
       "      <td>1</td>\n",
       "      <td>4</td>\n",
       "      <td>9</td>\n",
       "      <td>1</td>\n",
       "      <td>836</td>\n",
       "      <td>1</td>\n",
       "    </tr>\n",
       "    <tr>\n",
       "      <td>...</td>\n",
       "      <td>...</td>\n",
       "      <td>...</td>\n",
       "      <td>...</td>\n",
       "      <td>...</td>\n",
       "      <td>...</td>\n",
       "      <td>...</td>\n",
       "      <td>...</td>\n",
       "      <td>...</td>\n",
       "      <td>...</td>\n",
       "      <td>...</td>\n",
       "      <td>...</td>\n",
       "    </tr>\n",
       "    <tr>\n",
       "      <td>1455</td>\n",
       "      <td>7917</td>\n",
       "      <td>6</td>\n",
       "      <td>5</td>\n",
       "      <td>953</td>\n",
       "      <td>2</td>\n",
       "      <td>1</td>\n",
       "      <td>3</td>\n",
       "      <td>7</td>\n",
       "      <td>1</td>\n",
       "      <td>460</td>\n",
       "      <td>1</td>\n",
       "    </tr>\n",
       "    <tr>\n",
       "      <td>1456</td>\n",
       "      <td>13175</td>\n",
       "      <td>6</td>\n",
       "      <td>6</td>\n",
       "      <td>1542</td>\n",
       "      <td>2</td>\n",
       "      <td>0</td>\n",
       "      <td>3</td>\n",
       "      <td>7</td>\n",
       "      <td>2</td>\n",
       "      <td>500</td>\n",
       "      <td>1</td>\n",
       "    </tr>\n",
       "    <tr>\n",
       "      <td>1457</td>\n",
       "      <td>9042</td>\n",
       "      <td>7</td>\n",
       "      <td>9</td>\n",
       "      <td>1152</td>\n",
       "      <td>2</td>\n",
       "      <td>0</td>\n",
       "      <td>4</td>\n",
       "      <td>9</td>\n",
       "      <td>2</td>\n",
       "      <td>252</td>\n",
       "      <td>1</td>\n",
       "    </tr>\n",
       "    <tr>\n",
       "      <td>1458</td>\n",
       "      <td>9717</td>\n",
       "      <td>5</td>\n",
       "      <td>6</td>\n",
       "      <td>1078</td>\n",
       "      <td>1</td>\n",
       "      <td>0</td>\n",
       "      <td>2</td>\n",
       "      <td>5</td>\n",
       "      <td>0</td>\n",
       "      <td>240</td>\n",
       "      <td>0</td>\n",
       "    </tr>\n",
       "    <tr>\n",
       "      <td>1459</td>\n",
       "      <td>9937</td>\n",
       "      <td>5</td>\n",
       "      <td>6</td>\n",
       "      <td>1256</td>\n",
       "      <td>1</td>\n",
       "      <td>1</td>\n",
       "      <td>3</td>\n",
       "      <td>6</td>\n",
       "      <td>0</td>\n",
       "      <td>276</td>\n",
       "      <td>0</td>\n",
       "    </tr>\n",
       "  </tbody>\n",
       "</table>\n",
       "<p>1460 rows × 11 columns</p>\n",
       "</div>"
      ],
      "text/plain": [
       "      LotArea  OverallQual  OverallCond  TotalBsmtSF  FullBath  HalfBath  \\\n",
       "0        8450            7            5          856         2         1   \n",
       "1        9600            6            8         1262         2         0   \n",
       "2       11250            7            5          920         2         1   \n",
       "3        9550            7            5          756         1         0   \n",
       "4       14260            8            5         1145         2         1   \n",
       "...       ...          ...          ...          ...       ...       ...   \n",
       "1455     7917            6            5          953         2         1   \n",
       "1456    13175            6            6         1542         2         0   \n",
       "1457     9042            7            9         1152         2         0   \n",
       "1458     9717            5            6         1078         1         0   \n",
       "1459     9937            5            6         1256         1         1   \n",
       "\n",
       "      BedroomAbvGr  TotRmsAbvGrd  Fireplaces  GarageArea  AboveMedianPrice  \n",
       "0                3             8           0         548                 1  \n",
       "1                3             6           1         460                 1  \n",
       "2                3             6           1         608                 1  \n",
       "3                3             7           1         642                 0  \n",
       "4                4             9           1         836                 1  \n",
       "...            ...           ...         ...         ...               ...  \n",
       "1455             3             7           1         460                 1  \n",
       "1456             3             7           2         500                 1  \n",
       "1457             4             9           2         252                 1  \n",
       "1458             2             5           0         240                 0  \n",
       "1459             3             6           0         276                 0  \n",
       "\n",
       "[1460 rows x 11 columns]"
      ]
     },
     "execution_count": 72,
     "metadata": {},
     "output_type": "execute_result"
    }
   ],
   "source": [
    "data = pd.read_csv(\"housepricedata.csv\");\n",
    "data"
   ]
  },
  {
   "cell_type": "markdown",
   "metadata": {},
   "source": [
    "# the last column is the feature that we would like to predict \n",
    "# -> is the house price above the median or not?(1 for yes and 0 for no)"
   ]
  },
  {
   "cell_type": "markdown",
   "metadata": {},
   "source": [
    "# machine learning model process vectors, so it is necessary to convert the data into a array"
   ]
  },
  {
   "cell_type": "code",
   "execution_count": 73,
   "metadata": {},
   "outputs": [
    {
     "data": {
      "text/plain": [
       "array([[ 8450,     7,     5, ...,     0,   548,     1],\n",
       "       [ 9600,     6,     8, ...,     1,   460,     1],\n",
       "       [11250,     7,     5, ...,     1,   608,     1],\n",
       "       ...,\n",
       "       [ 9042,     7,     9, ...,     2,   252,     1],\n",
       "       [ 9717,     5,     6, ...,     0,   240,     0],\n",
       "       [ 9937,     5,     6, ...,     0,   276,     0]], dtype=int64)"
      ]
     },
     "execution_count": 73,
     "metadata": {},
     "output_type": "execute_result"
    }
   ],
   "source": [
    "dataset = data.values\n",
    "dataset # this is how the output look like"
   ]
  },
  {
   "cell_type": "markdown",
   "metadata": {},
   "source": [
    "# In next step is to split the data into input resources \"X\" and the resource to be predicted \"y\"\n",
    "# \"X\" would be columns 1 to 10, while \"y\" would be columns 11. "
   ]
  },
  {
   "cell_type": "code",
   "execution_count": 74,
   "metadata": {},
   "outputs": [
    {
     "data": {
      "text/plain": [
       "(1460, 10)"
      ]
     },
     "execution_count": 74,
     "metadata": {},
     "output_type": "execute_result"
    }
   ],
   "source": [
    "X = dataset[:,0:10]\n",
    "X.shape"
   ]
  },
  {
   "cell_type": "code",
   "execution_count": 75,
   "metadata": {},
   "outputs": [
    {
     "data": {
      "text/plain": [
       "(1460,)"
      ]
     },
     "execution_count": 75,
     "metadata": {},
     "output_type": "execute_result"
    }
   ],
   "source": [
    "Y = dataset[:,10]\n",
    "Y.shape"
   ]
  },
  {
   "cell_type": "markdown",
   "metadata": {},
   "source": [
    "# Normalizing the data set.\n",
    "# The idea of normalization is to adjust measured values at different,scales to a common nominal scale,\n",
    "# usually before average. One way to scale the data is to use an existing scikit-learn package.\n",
    "# We will use a function called min-max scaler, which scales the dataset so that all the input resources are between 0 and 1."
   ]
  },
  {
   "cell_type": "code",
   "execution_count": 76,
   "metadata": {},
   "outputs": [],
   "source": [
    "from sklearn import preprocessing\n",
    "min_max_scaler = preprocessing.MinMaxScaler()\n",
    "X_scale = min_max_scaler.fit_transform(X)\n"
   ]
  },
  {
   "cell_type": "markdown",
   "metadata": {},
   "source": [
    "#  New we need to split data for training, testing and validation.\n",
    "# In scikit-learn, we will import the train_test_split function to do this.\n",
    "# The test size will be 30% and from the test size we will use 50% as validation.\n",
    "# This mean train size will be 70%, the test size 15% and validation size 15%"
   ]
  },
  {
   "cell_type": "code",
   "execution_count": 77,
   "metadata": {},
   "outputs": [],
   "source": [
    "from sklearn.model_selection import train_test_split"
   ]
  },
  {
   "cell_type": "code",
   "execution_count": 78,
   "metadata": {},
   "outputs": [],
   "source": [
    "# train and test set (30%)\n",
    "\n",
    "X_train, X_val_and_test, Y_train, Y_val_and_test = train_test_split(X_scale, Y, test_size=0.3)\n",
    "\n",
    "# validation test (50% of test set)\n",
    "X_val, X_test, Y_val, Y_test = train_test_split(X_val_and_test, Y_val_and_test, test_size=0.5)"
   ]
  },
  {
   "cell_type": "code",
   "execution_count": 79,
   "metadata": {},
   "outputs": [
    {
     "name": "stdout",
     "output_type": "stream",
     "text": [
      "(1022, 10) (219, 10) (219, 10) (1022,) (219,) (219,)\n"
     ]
    }
   ],
   "source": [
    "print(X_train.shape, X_val.shape, X_test.shape, Y_train.shape, Y_val.shape, Y_test.shape)"
   ]
  },
  {
   "cell_type": "markdown",
   "metadata": {},
   "source": [
    "# Building a Neural Network"
   ]
  },
  {
   "cell_type": "markdown",
   "metadata": {},
   "source": [
    "# the first step in building a neural network is to define the architecture."
   ]
  },
  {
   "cell_type": "code",
   "execution_count": 84,
   "metadata": {},
   "outputs": [],
   "source": [
    "import numpy as np\n",
    "from tensorflow.keras.models import Sequential\n",
    "from tensorflow.keras.layers import Dense\n",
    "#from tensorflow.train import AdamOptimizer\n",
    "from tensorflow.core.example.feature_pb2 import Feature\n",
    "import tensorflow as tf\n",
    "#from keras.models import Sequential\n",
    "#from keras.layers import Dense"
   ]
  },
  {
   "cell_type": "code",
   "execution_count": 85,
   "metadata": {},
   "outputs": [
    {
     "name": "stdout",
     "output_type": "stream",
     "text": [
      "<module 'tensorflow_core._api.v2.train' from 'C:\\\\Users\\\\bayya\\\\Anaconda3\\\\lib\\\\site-packages\\\\tensorflow_core\\\\_api\\\\v2\\\\train\\\\__init__.py'>\n"
     ]
    }
   ],
   "source": [
    "from tensorflow import train\n",
    "print (train)"
   ]
  },
  {
   "cell_type": "code",
   "execution_count": 86,
   "metadata": {},
   "outputs": [],
   "source": [
    "model = Sequential()\n",
    "model.add(Dense(100, activation=\"relu\", input_shape=(10,)))\n",
    "model.add(Dense(100, activation=\"relu\"))\n",
    "model.add(Dense(1, activation=\"sigmoid\"))\n",
    "\n",
    "model.compile(optimizer=\"adam\", loss='mean_squared_error', metrics=['accuracy'])"
   ]
  },
  {
   "cell_type": "code",
   "execution_count": 87,
   "metadata": {},
   "outputs": [
    {
     "name": "stdout",
     "output_type": "stream",
     "text": [
      "Failed to import pydot. You must install pydot and graphviz for `pydotprint` to work.\n"
     ]
    }
   ],
   "source": [
    "tf.keras.utils.plot_model(model, 'model.png', show_shapes=True)"
   ]
  },
  {
   "cell_type": "code",
   "execution_count": 88,
   "metadata": {},
   "outputs": [
    {
     "name": "stdout",
     "output_type": "stream",
     "text": [
      "Model: \"sequential_11\"\n",
      "_________________________________________________________________\n",
      "Layer (type)                 Output Shape              Param #   \n",
      "=================================================================\n",
      "dense_30 (Dense)             (None, 100)               1100      \n",
      "_________________________________________________________________\n",
      "dense_31 (Dense)             (None, 100)               10100     \n",
      "_________________________________________________________________\n",
      "dense_32 (Dense)             (None, 1)                 101       \n",
      "=================================================================\n",
      "Total params: 11,301\n",
      "Trainable params: 11,301\n",
      "Non-trainable params: 0\n",
      "_________________________________________________________________\n"
     ]
    }
   ],
   "source": [
    "model.summary()"
   ]
  },
  {
   "cell_type": "code",
   "execution_count": 90,
   "metadata": {},
   "outputs": [
    {
     "name": "stdout",
     "output_type": "stream",
     "text": [
      "Train on 1022 samples, validate on 219 samples\n",
      "Epoch 1/100\n",
      "1022/1022 [==============================] - 6s 6ms/sample - loss: 0.2265 - accuracy: 0.5910 - val_loss: 0.2004 - val_accuracy: 0.8082\n",
      "Epoch 2/100\n",
      "1022/1022 [==============================] - 0s 177us/sample - loss: 0.1671 - accuracy: 0.8229 - val_loss: 0.1510 - val_accuracy: 0.7900\n",
      "Epoch 3/100\n",
      "1022/1022 [==============================] - 0s 135us/sample - loss: 0.1271 - accuracy: 0.8434 - val_loss: 0.1280 - val_accuracy: 0.8356\n",
      "Epoch 4/100\n",
      "1022/1022 [==============================] - 0s 108us/sample - loss: 0.1088 - accuracy: 0.8640 - val_loss: 0.1154 - val_accuracy: 0.8539\n",
      "Epoch 5/100\n",
      "1022/1022 [==============================] - 0s 129us/sample - loss: 0.1010 - accuracy: 0.8689 - val_loss: 0.1171 - val_accuracy: 0.8311\n",
      "Epoch 6/100\n",
      "1022/1022 [==============================] - 0s 113us/sample - loss: 0.0941 - accuracy: 0.8826 - val_loss: 0.1077 - val_accuracy: 0.8584\n",
      "Epoch 7/100\n",
      "1022/1022 [==============================] - 0s 133us/sample - loss: 0.0878 - accuracy: 0.8826 - val_loss: 0.1063 - val_accuracy: 0.8493\n",
      "Epoch 8/100\n",
      "1022/1022 [==============================] - 0s 134us/sample - loss: 0.0858 - accuracy: 0.8875 - val_loss: 0.1048 - val_accuracy: 0.8493\n",
      "Epoch 9/100\n",
      "1022/1022 [==============================] - 0s 160us/sample - loss: 0.0822 - accuracy: 0.8914 - val_loss: 0.1044 - val_accuracy: 0.8539\n",
      "Epoch 10/100\n",
      "1022/1022 [==============================] - 0s 159us/sample - loss: 0.0787 - accuracy: 0.8943 - val_loss: 0.0993 - val_accuracy: 0.8630\n",
      "Epoch 11/100\n",
      "1022/1022 [==============================] - 0s 129us/sample - loss: 0.0772 - accuracy: 0.9041 - val_loss: 0.0991 - val_accuracy: 0.8767\n",
      "Epoch 12/100\n",
      "1022/1022 [==============================] - 0s 121us/sample - loss: 0.0763 - accuracy: 0.9012 - val_loss: 0.0987 - val_accuracy: 0.8676\n",
      "Epoch 13/100\n",
      "1022/1022 [==============================] - 0s 155us/sample - loss: 0.0745 - accuracy: 0.9031 - val_loss: 0.1029 - val_accuracy: 0.8402\n",
      "Epoch 14/100\n",
      "1022/1022 [==============================] - 0s 120us/sample - loss: 0.0716 - accuracy: 0.9070 - val_loss: 0.1002 - val_accuracy: 0.8493\n",
      "Epoch 15/100\n",
      "1022/1022 [==============================] - 0s 120us/sample - loss: 0.0705 - accuracy: 0.9100 - val_loss: 0.0928 - val_accuracy: 0.8813\n",
      "Epoch 16/100\n",
      "1022/1022 [==============================] - 0s 105us/sample - loss: 0.0695 - accuracy: 0.9119 - val_loss: 0.0961 - val_accuracy: 0.8721\n",
      "Epoch 17/100\n",
      "1022/1022 [==============================] - 0s 122us/sample - loss: 0.0683 - accuracy: 0.9100 - val_loss: 0.0916 - val_accuracy: 0.8813\n",
      "Epoch 18/100\n",
      "1022/1022 [==============================] - 0s 136us/sample - loss: 0.0676 - accuracy: 0.9139 - val_loss: 0.0900 - val_accuracy: 0.8858\n",
      "Epoch 19/100\n",
      "1022/1022 [==============================] - 0s 132us/sample - loss: 0.0650 - accuracy: 0.9110 - val_loss: 0.0894 - val_accuracy: 0.8767\n",
      "Epoch 20/100\n",
      "1022/1022 [==============================] - 0s 145us/sample - loss: 0.0657 - accuracy: 0.9129 - val_loss: 0.0912 - val_accuracy: 0.8767\n",
      "Epoch 21/100\n",
      "1022/1022 [==============================] - 0s 115us/sample - loss: 0.0640 - accuracy: 0.9110 - val_loss: 0.0920 - val_accuracy: 0.8721\n",
      "Epoch 22/100\n",
      "1022/1022 [==============================] - 0s 210us/sample - loss: 0.0640 - accuracy: 0.9178 - val_loss: 0.0891 - val_accuracy: 0.8767\n",
      "Epoch 23/100\n",
      "1022/1022 [==============================] - 0s 122us/sample - loss: 0.0620 - accuracy: 0.9188 - val_loss: 0.0952 - val_accuracy: 0.8676\n",
      "Epoch 24/100\n",
      "1022/1022 [==============================] - 0s 122us/sample - loss: 0.0618 - accuracy: 0.9217 - val_loss: 0.0909 - val_accuracy: 0.8813\n",
      "Epoch 25/100\n",
      "1022/1022 [==============================] - 0s 139us/sample - loss: 0.0657 - accuracy: 0.9188 - val_loss: 0.0896 - val_accuracy: 0.8813\n",
      "Epoch 26/100\n",
      "1022/1022 [==============================] - 0s 127us/sample - loss: 0.0622 - accuracy: 0.9217 - val_loss: 0.0880 - val_accuracy: 0.8767\n",
      "Epoch 27/100\n",
      "1022/1022 [==============================] - 0s 142us/sample - loss: 0.0590 - accuracy: 0.9256 - val_loss: 0.0892 - val_accuracy: 0.8676\n",
      "Epoch 28/100\n",
      "1022/1022 [==============================] - 0s 131us/sample - loss: 0.0599 - accuracy: 0.9207 - val_loss: 0.0906 - val_accuracy: 0.8858\n",
      "Epoch 29/100\n",
      "1022/1022 [==============================] - 0s 138us/sample - loss: 0.0618 - accuracy: 0.9198 - val_loss: 0.0876 - val_accuracy: 0.8767\n",
      "Epoch 30/100\n",
      "1022/1022 [==============================] - 0s 135us/sample - loss: 0.0581 - accuracy: 0.9217 - val_loss: 0.0882 - val_accuracy: 0.8767\n",
      "Epoch 31/100\n",
      "1022/1022 [==============================] - 0s 195us/sample - loss: 0.0575 - accuracy: 0.9256 - val_loss: 0.0893 - val_accuracy: 0.8584\n",
      "Epoch 32/100\n",
      "1022/1022 [==============================] - 0s 111us/sample - loss: 0.0575 - accuracy: 0.9266 - val_loss: 0.0910 - val_accuracy: 0.8630\n",
      "Epoch 33/100\n",
      "1022/1022 [==============================] - 0s 118us/sample - loss: 0.0571 - accuracy: 0.9276 - val_loss: 0.0951 - val_accuracy: 0.8630\n",
      "Epoch 34/100\n",
      "1022/1022 [==============================] - 0s 117us/sample - loss: 0.0594 - accuracy: 0.9168 - val_loss: 0.0945 - val_accuracy: 0.8721\n",
      "Epoch 35/100\n",
      "1022/1022 [==============================] - 0s 122us/sample - loss: 0.0632 - accuracy: 0.9168 - val_loss: 0.0898 - val_accuracy: 0.8813\n",
      "Epoch 36/100\n",
      "1022/1022 [==============================] - 0s 112us/sample - loss: 0.0590 - accuracy: 0.9217 - val_loss: 0.0996 - val_accuracy: 0.8767\n",
      "Epoch 37/100\n",
      "1022/1022 [==============================] - 0s 132us/sample - loss: 0.0552 - accuracy: 0.9335 - val_loss: 0.0899 - val_accuracy: 0.8767\n",
      "Epoch 38/100\n",
      "1022/1022 [==============================] - 0s 111us/sample - loss: 0.0566 - accuracy: 0.9295 - val_loss: 0.0925 - val_accuracy: 0.8676\n",
      "Epoch 39/100\n",
      "1022/1022 [==============================] - 0s 117us/sample - loss: 0.0616 - accuracy: 0.9129 - val_loss: 0.0881 - val_accuracy: 0.8813\n",
      "Epoch 40/100\n",
      "1022/1022 [==============================] - 0s 105us/sample - loss: 0.0551 - accuracy: 0.9237 - val_loss: 0.0902 - val_accuracy: 0.8630\n",
      "Epoch 41/100\n",
      "1022/1022 [==============================] - 0s 106us/sample - loss: 0.0551 - accuracy: 0.9325 - val_loss: 0.0904 - val_accuracy: 0.8813\n",
      "Epoch 42/100\n",
      "1022/1022 [==============================] - 0s 116us/sample - loss: 0.0564 - accuracy: 0.9227 - val_loss: 0.0926 - val_accuracy: 0.8813\n",
      "Epoch 43/100\n",
      "1022/1022 [==============================] - 0s 103us/sample - loss: 0.0560 - accuracy: 0.9256 - val_loss: 0.0903 - val_accuracy: 0.8721\n",
      "Epoch 44/100\n",
      "1022/1022 [==============================] - 0s 109us/sample - loss: 0.0569 - accuracy: 0.9237 - val_loss: 0.0905 - val_accuracy: 0.8767\n",
      "Epoch 45/100\n",
      "1022/1022 [==============================] - 0s 133us/sample - loss: 0.0562 - accuracy: 0.9276 - val_loss: 0.0916 - val_accuracy: 0.8721\n",
      "Epoch 46/100\n",
      "1022/1022 [==============================] - 0s 130us/sample - loss: 0.0531 - accuracy: 0.9344 - val_loss: 0.0897 - val_accuracy: 0.8767\n",
      "Epoch 47/100\n",
      "1022/1022 [==============================] - 0s 116us/sample - loss: 0.0518 - accuracy: 0.9305 - val_loss: 0.0907 - val_accuracy: 0.8767\n",
      "Epoch 48/100\n",
      "1022/1022 [==============================] - 0s 151us/sample - loss: 0.0532 - accuracy: 0.9247 - val_loss: 0.0908 - val_accuracy: 0.8676\n",
      "Epoch 49/100\n",
      "1022/1022 [==============================] - 0s 136us/sample - loss: 0.0534 - accuracy: 0.9266 - val_loss: 0.0946 - val_accuracy: 0.8676\n",
      "Epoch 50/100\n",
      "1022/1022 [==============================] - 0s 190us/sample - loss: 0.0518 - accuracy: 0.9423 - val_loss: 0.0904 - val_accuracy: 0.8858\n",
      "Epoch 51/100\n",
      "1022/1022 [==============================] - 0s 133us/sample - loss: 0.0518 - accuracy: 0.9325 - val_loss: 0.0908 - val_accuracy: 0.8767\n",
      "Epoch 52/100\n",
      "1022/1022 [==============================] - 0s 148us/sample - loss: 0.0509 - accuracy: 0.9315 - val_loss: 0.0910 - val_accuracy: 0.8767\n",
      "Epoch 53/100\n",
      "1022/1022 [==============================] - 0s 128us/sample - loss: 0.0524 - accuracy: 0.9344 - val_loss: 0.0922 - val_accuracy: 0.8813\n",
      "Epoch 54/100\n",
      "1022/1022 [==============================] - 0s 150us/sample - loss: 0.0526 - accuracy: 0.9305 - val_loss: 0.0987 - val_accuracy: 0.8584\n",
      "Epoch 55/100\n"
     ]
    },
    {
     "name": "stdout",
     "output_type": "stream",
     "text": [
      "1022/1022 [==============================] - 0s 141us/sample - loss: 0.0541 - accuracy: 0.9354 - val_loss: 0.0929 - val_accuracy: 0.8721\n",
      "Epoch 56/100\n",
      "1022/1022 [==============================] - 0s 132us/sample - loss: 0.0518 - accuracy: 0.9315 - val_loss: 0.0926 - val_accuracy: 0.8721\n",
      "Epoch 57/100\n",
      "1022/1022 [==============================] - 0s 131us/sample - loss: 0.0554 - accuracy: 0.9295 - val_loss: 0.0943 - val_accuracy: 0.8630\n",
      "Epoch 58/100\n",
      "1022/1022 [==============================] - 0s 124us/sample - loss: 0.0563 - accuracy: 0.9266 - val_loss: 0.0934 - val_accuracy: 0.8813\n",
      "Epoch 59/100\n",
      "1022/1022 [==============================] - 0s 124us/sample - loss: 0.0501 - accuracy: 0.9344 - val_loss: 0.0904 - val_accuracy: 0.8858\n",
      "Epoch 60/100\n",
      "1022/1022 [==============================] - 0s 134us/sample - loss: 0.0534 - accuracy: 0.9227 - val_loss: 0.0914 - val_accuracy: 0.8813\n",
      "Epoch 61/100\n",
      "1022/1022 [==============================] - 0s 127us/sample - loss: 0.0513 - accuracy: 0.9344 - val_loss: 0.0949 - val_accuracy: 0.8676\n",
      "Epoch 62/100\n",
      "1022/1022 [==============================] - 0s 129us/sample - loss: 0.0510 - accuracy: 0.9295 - val_loss: 0.0912 - val_accuracy: 0.8858\n",
      "Epoch 63/100\n",
      "1022/1022 [==============================] - 0s 139us/sample - loss: 0.0518 - accuracy: 0.9286 - val_loss: 0.0924 - val_accuracy: 0.8858\n",
      "Epoch 64/100\n",
      "1022/1022 [==============================] - 0s 119us/sample - loss: 0.0502 - accuracy: 0.9364 - val_loss: 0.0955 - val_accuracy: 0.8721\n",
      "Epoch 65/100\n",
      "1022/1022 [==============================] - 0s 135us/sample - loss: 0.0515 - accuracy: 0.9325 - val_loss: 0.0913 - val_accuracy: 0.8904\n",
      "Epoch 66/100\n",
      "1022/1022 [==============================] - 0s 142us/sample - loss: 0.0539 - accuracy: 0.9305 - val_loss: 0.0943 - val_accuracy: 0.8630\n",
      "Epoch 67/100\n",
      "1022/1022 [==============================] - 0s 123us/sample - loss: 0.0525 - accuracy: 0.9305 - val_loss: 0.0912 - val_accuracy: 0.8858\n",
      "Epoch 68/100\n",
      "1022/1022 [==============================] - 0s 128us/sample - loss: 0.0542 - accuracy: 0.9286 - val_loss: 0.0944 - val_accuracy: 0.8813\n",
      "Epoch 69/100\n",
      "1022/1022 [==============================] - 0s 127us/sample - loss: 0.0512 - accuracy: 0.9325 - val_loss: 0.0927 - val_accuracy: 0.8813\n",
      "Epoch 70/100\n",
      "1022/1022 [==============================] - 0s 150us/sample - loss: 0.0510 - accuracy: 0.9354 - val_loss: 0.0913 - val_accuracy: 0.8721\n",
      "Epoch 71/100\n",
      "1022/1022 [==============================] - 0s 129us/sample - loss: 0.0527 - accuracy: 0.9344 - val_loss: 0.1015 - val_accuracy: 0.8630\n",
      "Epoch 72/100\n",
      "1022/1022 [==============================] - 0s 145us/sample - loss: 0.0487 - accuracy: 0.9354 - val_loss: 0.0937 - val_accuracy: 0.8767\n",
      "Epoch 73/100\n",
      "1022/1022 [==============================] - 0s 119us/sample - loss: 0.0524 - accuracy: 0.9374 - val_loss: 0.0960 - val_accuracy: 0.8676\n",
      "Epoch 74/100\n",
      "1022/1022 [==============================] - 0s 128us/sample - loss: 0.0491 - accuracy: 0.9384 - val_loss: 0.0975 - val_accuracy: 0.8676\n",
      "Epoch 75/100\n",
      "1022/1022 [==============================] - 0s 212us/sample - loss: 0.0493 - accuracy: 0.9354 - val_loss: 0.0928 - val_accuracy: 0.8676\n",
      "Epoch 76/100\n",
      "1022/1022 [==============================] - 0s 177us/sample - loss: 0.0490 - accuracy: 0.9374 - val_loss: 0.0946 - val_accuracy: 0.8721\n",
      "Epoch 77/100\n",
      "1022/1022 [==============================] - 0s 165us/sample - loss: 0.0523 - accuracy: 0.9325 - val_loss: 0.0941 - val_accuracy: 0.8630\n",
      "Epoch 78/100\n",
      "1022/1022 [==============================] - 0s 198us/sample - loss: 0.0509 - accuracy: 0.9335 - val_loss: 0.0936 - val_accuracy: 0.8721\n",
      "Epoch 79/100\n",
      "1022/1022 [==============================] - 0s 190us/sample - loss: 0.0493 - accuracy: 0.9423 - val_loss: 0.0906 - val_accuracy: 0.8813\n",
      "Epoch 80/100\n",
      "1022/1022 [==============================] - 0s 131us/sample - loss: 0.0515 - accuracy: 0.9256 - val_loss: 0.0936 - val_accuracy: 0.8813\n",
      "Epoch 81/100\n",
      "1022/1022 [==============================] - 0s 134us/sample - loss: 0.0520 - accuracy: 0.9315 - val_loss: 0.0920 - val_accuracy: 0.8813\n",
      "Epoch 82/100\n",
      "1022/1022 [==============================] - 0s 151us/sample - loss: 0.0487 - accuracy: 0.9364 - val_loss: 0.0930 - val_accuracy: 0.8813\n",
      "Epoch 83/100\n",
      "1022/1022 [==============================] - 0s 139us/sample - loss: 0.0496 - accuracy: 0.9335 - val_loss: 0.0911 - val_accuracy: 0.8813\n",
      "Epoch 84/100\n",
      "1022/1022 [==============================] - 0s 125us/sample - loss: 0.0507 - accuracy: 0.9364 - val_loss: 0.0961 - val_accuracy: 0.8721\n",
      "Epoch 85/100\n",
      "1022/1022 [==============================] - 0s 134us/sample - loss: 0.0509 - accuracy: 0.9247 - val_loss: 0.0919 - val_accuracy: 0.8858\n",
      "Epoch 86/100\n",
      "1022/1022 [==============================] - 0s 143us/sample - loss: 0.0474 - accuracy: 0.9393 - val_loss: 0.0927 - val_accuracy: 0.8813\n",
      "Epoch 87/100\n",
      "1022/1022 [==============================] - 0s 150us/sample - loss: 0.0476 - accuracy: 0.9393 - val_loss: 0.0927 - val_accuracy: 0.8858\n",
      "Epoch 88/100\n",
      "1022/1022 [==============================] - 0s 167us/sample - loss: 0.0483 - accuracy: 0.9423 - val_loss: 0.0940 - val_accuracy: 0.8676\n",
      "Epoch 89/100\n",
      "1022/1022 [==============================] - 0s 119us/sample - loss: 0.0487 - accuracy: 0.9374 - val_loss: 0.0943 - val_accuracy: 0.8767\n",
      "Epoch 90/100\n",
      "1022/1022 [==============================] - 0s 134us/sample - loss: 0.0494 - accuracy: 0.9335 - val_loss: 0.0928 - val_accuracy: 0.8813\n",
      "Epoch 91/100\n",
      "1022/1022 [==============================] - 0s 139us/sample - loss: 0.0488 - accuracy: 0.9315 - val_loss: 0.0921 - val_accuracy: 0.8858\n",
      "Epoch 92/100\n",
      "1022/1022 [==============================] - 0s 110us/sample - loss: 0.0491 - accuracy: 0.9364 - val_loss: 0.0966 - val_accuracy: 0.8676\n",
      "Epoch 93/100\n",
      "1022/1022 [==============================] - 0s 148us/sample - loss: 0.0470 - accuracy: 0.9413 - val_loss: 0.0931 - val_accuracy: 0.8767\n",
      "Epoch 94/100\n",
      "1022/1022 [==============================] - 0s 135us/sample - loss: 0.0485 - accuracy: 0.9384 - val_loss: 0.0984 - val_accuracy: 0.8630\n",
      "Epoch 95/100\n",
      "1022/1022 [==============================] - 0s 121us/sample - loss: 0.0522 - accuracy: 0.9315 - val_loss: 0.0923 - val_accuracy: 0.8813\n",
      "Epoch 96/100\n",
      "1022/1022 [==============================] - 0s 126us/sample - loss: 0.0480 - accuracy: 0.9393 - val_loss: 0.0924 - val_accuracy: 0.8858\n",
      "Epoch 97/100\n",
      "1022/1022 [==============================] - 0s 128us/sample - loss: 0.0475 - accuracy: 0.9403 - val_loss: 0.0935 - val_accuracy: 0.8767\n",
      "Epoch 98/100\n",
      "1022/1022 [==============================] - 0s 143us/sample - loss: 0.0487 - accuracy: 0.9393 - val_loss: 0.0938 - val_accuracy: 0.8858\n",
      "Epoch 99/100\n",
      "1022/1022 [==============================] - 0s 125us/sample - loss: 0.0546 - accuracy: 0.9305 - val_loss: 0.0923 - val_accuracy: 0.8767\n",
      "Epoch 100/100\n",
      "1022/1022 [==============================] - 0s 120us/sample - loss: 0.0489 - accuracy: 0.9384 - val_loss: 0.0926 - val_accuracy: 0.8858\n"
     ]
    }
   ],
   "source": [
    "exeu = model.fit(X_train, Y_train, batch_size=32, epochs=100, validation_data=(X_val, Y_val))"
   ]
  },
  {
   "cell_type": "code",
   "execution_count": 91,
   "metadata": {},
   "outputs": [
    {
     "name": "stdout",
     "output_type": "stream",
     "text": [
      "\r",
      "219/1 [==========================================================================================================================================================================================================================================================================================================================================================================================================================================================================================================================================================================================================================================================================================================================================================================================================================================================================================================================================================================================================================================================================================================================================================================================================================================================================================================================================================================================================================================================================================================================================================================================================================================================================================================================================================================================================================================================================================================================================================================================================================================================================================================================================================================================================================================================================================================================================================================================================================================================================================================================================================================================================================================================================================================================================================================================================================================================================================================================================================================================================================================================================================================================================================================================================================================================================================================================================================================================================================================================================================================================================================================================================================================================================================================================================================================================================================================================================================================================================================================================================================================================================================================================================================================================================================================================================================================================================================================================================================================================================================================================================================================================================================================================================================================================================================================================================================================================================================================================================================================================================================================================================================================================================================================================================================================================================================================================================================================================================================================================================================================================================================================================================================================================================================================================================================================================================================================================================================================================================================================================================================================================================================================================================================================================================================================================================================================================================================================================================================================================================================================================================================================================================================================================================================================================================================================================================================================] - 0s 0s/sample - loss: 0.0805 - accuracy: 0.8493\n"
     ]
    },
    {
     "data": {
      "text/plain": [
       "[0.09907890922606807, 0.84931505]"
      ]
     },
     "execution_count": 91,
     "metadata": {},
     "output_type": "execute_result"
    }
   ],
   "source": [
    "model.evaluate(X_test, Y_test)"
   ]
  },
  {
   "cell_type": "code",
   "execution_count": 93,
   "metadata": {},
   "outputs": [
    {
     "data": {
      "text/plain": [
       "dict_keys(['loss', 'accuracy', 'val_loss', 'val_accuracy'])"
      ]
     },
     "execution_count": 93,
     "metadata": {},
     "output_type": "execute_result"
    }
   ],
   "source": [
    "exeu.history.keys()"
   ]
  },
  {
   "cell_type": "code",
   "execution_count": 96,
   "metadata": {},
   "outputs": [
    {
     "data": {
      "text/plain": [
       "[<matplotlib.lines.Line2D at 0x20f778325c8>]"
      ]
     },
     "execution_count": 96,
     "metadata": {},
     "output_type": "execute_result"
    },
    {
     "data": {
      "image/png": "[encoded data removed]",
      "text/plain": [
       "<Figure size 432x288 with 1 Axes>"
      ]
     },
     "metadata": {
      "needs_background": "light"
     },
     "output_type": "display_data"
    }
   ],
   "source": [
    "import matplotlib.pyplot as plt\n",
    "plt.plot(exeu.history['val_accuracy'])\n",
    "plt.plot(exeu.history['accuracy'])"
   ]
  },
  {
   "cell_type": "code",
   "execution_count": 105,
   "metadata": {},
   "outputs": [
    {
     "data": {
      "text/plain": [
       "array([[0.9825209]], dtype=float32)"
      ]
     },
     "execution_count": 105,
     "metadata": {},
     "output_type": "execute_result"
    }
   ],
   "source": [
    "# run prediction at local\n",
    "prediction = model.predict(X_test[[15]])\n",
    "prediction"
   ]
  },
  {
   "cell_type": "code",
   "execution_count": null,
   "metadata": {},
   "outputs": [],
   "source": []
  }
 ],
 "metadata": {
  "kernelspec": {
   "display_name": "Python 3",
   "language": "python",
   "name": "python3"
  },
  "language_info": {
   "codemirror_mode": {
    "name": "ipython",
    "version": 3
   },
   "file_extension": ".py",
   "mimetype": "text/x-python",
   "name": "python",
   "nbconvert_exporter": "python",
   "pygments_lexer": "ipython3",
   "version": "3.7.4"
  }
 },
 "nbformat": 4,
 "nbformat_minor": 2
}
