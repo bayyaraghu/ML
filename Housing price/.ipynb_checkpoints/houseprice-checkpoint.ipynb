{
 "cells": [
  {
   "cell_type": "markdown",
   "metadata": {},
   "source": [
    "# from medium.com/markitosanches, with NEURAL NETWORK KERAS TENSERFLOW"
   ]
  },
  {
   "cell_type": "code",
   "execution_count": 1,
   "metadata": {},
   "outputs": [],
   "source": [
    "import pandas as pd"
   ]
  },
  {
   "cell_type": "code",
   "execution_count": 2,
   "metadata": {},
   "outputs": [
    {
     "data": {
      "text/html": [
       "<div>\n",
       "<style scoped>\n",
       "    .dataframe tbody tr th:only-of-type {\n",
       "        vertical-align: middle;\n",
       "    }\n",
       "\n",
       "    .dataframe tbody tr th {\n",
       "        vertical-align: top;\n",
       "    }\n",
       "\n",
       "    .dataframe thead th {\n",
       "        text-align: right;\n",
       "    }\n",
       "</style>\n",
       "<table border=\"1\" class=\"dataframe\">\n",
       "  <thead>\n",
       "    <tr style=\"text-align: right;\">\n",
       "      <th></th>\n",
       "      <th>LotArea</th>\n",
       "      <th>OverallQual</th>\n",
       "      <th>OverallCond</th>\n",
       "      <th>TotalBsmtSF</th>\n",
       "      <th>FullBath</th>\n",
       "      <th>HalfBath</th>\n",
       "      <th>BedroomAbvGr</th>\n",
       "      <th>TotRmsAbvGrd</th>\n",
       "      <th>Fireplaces</th>\n",
       "      <th>GarageArea</th>\n",
       "      <th>AboveMedianPrice</th>\n",
       "    </tr>\n",
       "  </thead>\n",
       "  <tbody>\n",
       "    <tr>\n",
       "      <td>0</td>\n",
       "      <td>8450</td>\n",
       "      <td>7</td>\n",
       "      <td>5</td>\n",
       "      <td>856</td>\n",
       "      <td>2</td>\n",
       "      <td>1</td>\n",
       "      <td>3</td>\n",
       "      <td>8</td>\n",
       "      <td>0</td>\n",
       "      <td>548</td>\n",
       "      <td>1</td>\n",
       "    </tr>\n",
       "    <tr>\n",
       "      <td>1</td>\n",
       "      <td>9600</td>\n",
       "      <td>6</td>\n",
       "      <td>8</td>\n",
       "      <td>1262</td>\n",
       "      <td>2</td>\n",
       "      <td>0</td>\n",
       "      <td>3</td>\n",
       "      <td>6</td>\n",
       "      <td>1</td>\n",
       "      <td>460</td>\n",
       "      <td>1</td>\n",
       "    </tr>\n",
       "    <tr>\n",
       "      <td>2</td>\n",
       "      <td>11250</td>\n",
       "      <td>7</td>\n",
       "      <td>5</td>\n",
       "      <td>920</td>\n",
       "      <td>2</td>\n",
       "      <td>1</td>\n",
       "      <td>3</td>\n",
       "      <td>6</td>\n",
       "      <td>1</td>\n",
       "      <td>608</td>\n",
       "      <td>1</td>\n",
       "    </tr>\n",
       "    <tr>\n",
       "      <td>3</td>\n",
       "      <td>9550</td>\n",
       "      <td>7</td>\n",
       "      <td>5</td>\n",
       "      <td>756</td>\n",
       "      <td>1</td>\n",
       "      <td>0</td>\n",
       "      <td>3</td>\n",
       "      <td>7</td>\n",
       "      <td>1</td>\n",
       "      <td>642</td>\n",
       "      <td>0</td>\n",
       "    </tr>\n",
       "    <tr>\n",
       "      <td>4</td>\n",
       "      <td>14260</td>\n",
       "      <td>8</td>\n",
       "      <td>5</td>\n",
       "      <td>1145</td>\n",
       "      <td>2</td>\n",
       "      <td>1</td>\n",
       "      <td>4</td>\n",
       "      <td>9</td>\n",
       "      <td>1</td>\n",
       "      <td>836</td>\n",
       "      <td>1</td>\n",
       "    </tr>\n",
       "    <tr>\n",
       "      <td>...</td>\n",
       "      <td>...</td>\n",
       "      <td>...</td>\n",
       "      <td>...</td>\n",
       "      <td>...</td>\n",
       "      <td>...</td>\n",
       "      <td>...</td>\n",
       "      <td>...</td>\n",
       "      <td>...</td>\n",
       "      <td>...</td>\n",
       "      <td>...</td>\n",
       "      <td>...</td>\n",
       "    </tr>\n",
       "    <tr>\n",
       "      <td>1455</td>\n",
       "      <td>7917</td>\n",
       "      <td>6</td>\n",
       "      <td>5</td>\n",
       "      <td>953</td>\n",
       "      <td>2</td>\n",
       "      <td>1</td>\n",
       "      <td>3</td>\n",
       "      <td>7</td>\n",
       "      <td>1</td>\n",
       "      <td>460</td>\n",
       "      <td>1</td>\n",
       "    </tr>\n",
       "    <tr>\n",
       "      <td>1456</td>\n",
       "      <td>13175</td>\n",
       "      <td>6</td>\n",
       "      <td>6</td>\n",
       "      <td>1542</td>\n",
       "      <td>2</td>\n",
       "      <td>0</td>\n",
       "      <td>3</td>\n",
       "      <td>7</td>\n",
       "      <td>2</td>\n",
       "      <td>500</td>\n",
       "      <td>1</td>\n",
       "    </tr>\n",
       "    <tr>\n",
       "      <td>1457</td>\n",
       "      <td>9042</td>\n",
       "      <td>7</td>\n",
       "      <td>9</td>\n",
       "      <td>1152</td>\n",
       "      <td>2</td>\n",
       "      <td>0</td>\n",
       "      <td>4</td>\n",
       "      <td>9</td>\n",
       "      <td>2</td>\n",
       "      <td>252</td>\n",
       "      <td>1</td>\n",
       "    </tr>\n",
       "    <tr>\n",
       "      <td>1458</td>\n",
       "      <td>9717</td>\n",
       "      <td>5</td>\n",
       "      <td>6</td>\n",
       "      <td>1078</td>\n",
       "      <td>1</td>\n",
       "      <td>0</td>\n",
       "      <td>2</td>\n",
       "      <td>5</td>\n",
       "      <td>0</td>\n",
       "      <td>240</td>\n",
       "      <td>0</td>\n",
       "    </tr>\n",
       "    <tr>\n",
       "      <td>1459</td>\n",
       "      <td>9937</td>\n",
       "      <td>5</td>\n",
       "      <td>6</td>\n",
       "      <td>1256</td>\n",
       "      <td>1</td>\n",
       "      <td>1</td>\n",
       "      <td>3</td>\n",
       "      <td>6</td>\n",
       "      <td>0</td>\n",
       "      <td>276</td>\n",
       "      <td>0</td>\n",
       "    </tr>\n",
       "  </tbody>\n",
       "</table>\n",
       "<p>1460 rows × 11 columns</p>\n",
       "</div>"
      ],
      "text/plain": [
       "      LotArea  OverallQual  OverallCond  TotalBsmtSF  FullBath  HalfBath  \\\n",
       "0        8450            7            5          856         2         1   \n",
       "1        9600            6            8         1262         2         0   \n",
       "2       11250            7            5          920         2         1   \n",
       "3        9550            7            5          756         1         0   \n",
       "4       14260            8            5         1145         2         1   \n",
       "...       ...          ...          ...          ...       ...       ...   \n",
       "1455     7917            6            5          953         2         1   \n",
       "1456    13175            6            6         1542         2         0   \n",
       "1457     9042            7            9         1152         2         0   \n",
       "1458     9717            5            6         1078         1         0   \n",
       "1459     9937            5            6         1256         1         1   \n",
       "\n",
       "      BedroomAbvGr  TotRmsAbvGrd  Fireplaces  GarageArea  AboveMedianPrice  \n",
       "0                3             8           0         548                 1  \n",
       "1                3             6           1         460                 1  \n",
       "2                3             6           1         608                 1  \n",
       "3                3             7           1         642                 0  \n",
       "4                4             9           1         836                 1  \n",
       "...            ...           ...         ...         ...               ...  \n",
       "1455             3             7           1         460                 1  \n",
       "1456             3             7           2         500                 1  \n",
       "1457             4             9           2         252                 1  \n",
       "1458             2             5           0         240                 0  \n",
       "1459             3             6           0         276                 0  \n",
       "\n",
       "[1460 rows x 11 columns]"
      ]
     },
     "execution_count": 2,
     "metadata": {},
     "output_type": "execute_result"
    }
   ],
   "source": [
    "data = pd.read_csv(\"housepricedata.csv\");\n",
    "data"
   ]
  },
  {
   "cell_type": "markdown",
   "metadata": {},
   "source": [
    "# the last column is the feature that we would like to predict \n",
    "# -> is the house price above the median or not?(1 for yes and 0 for no)"
   ]
  },
  {
   "cell_type": "markdown",
   "metadata": {},
   "source": [
    "# machine learning model process vectors, so it is necessary to convert the data into a array"
   ]
  },
  {
   "cell_type": "code",
   "execution_count": 3,
   "metadata": {},
   "outputs": [
    {
     "data": {
      "text/plain": [
       "array([[ 8450,     7,     5, ...,     0,   548,     1],\n",
       "       [ 9600,     6,     8, ...,     1,   460,     1],\n",
       "       [11250,     7,     5, ...,     1,   608,     1],\n",
       "       ...,\n",
       "       [ 9042,     7,     9, ...,     2,   252,     1],\n",
       "       [ 9717,     5,     6, ...,     0,   240,     0],\n",
       "       [ 9937,     5,     6, ...,     0,   276,     0]], dtype=int64)"
      ]
     },
     "execution_count": 3,
     "metadata": {},
     "output_type": "execute_result"
    }
   ],
   "source": [
    "dataset = data.values\n",
    "dataset # this is how the output look like"
   ]
  },
  {
   "cell_type": "markdown",
   "metadata": {},
   "source": [
    "# In next step is to split the data into input resources \"X\" and the resource to be predicted \"y\"\n",
    "# \"X\" would be columns 1 to 10, while \"y\" would be columns 11. "
   ]
  },
  {
   "cell_type": "code",
   "execution_count": 4,
   "metadata": {},
   "outputs": [
    {
     "data": {
      "text/plain": [
       "(1460, 10)"
      ]
     },
     "execution_count": 4,
     "metadata": {},
     "output_type": "execute_result"
    }
   ],
   "source": [
    "X = dataset[:,0:10]\n",
    "X.shape"
   ]
  },
  {
   "cell_type": "code",
   "execution_count": 5,
   "metadata": {},
   "outputs": [
    {
     "data": {
      "text/plain": [
       "(1460,)"
      ]
     },
     "execution_count": 5,
     "metadata": {},
     "output_type": "execute_result"
    }
   ],
   "source": [
    "Y = dataset[:,10]\n",
    "Y.shape"
   ]
  },
  {
   "cell_type": "markdown",
   "metadata": {},
   "source": [
    "# Normalizing the data set.\n",
    "# The idea of normalization is to adjust measured values at different,scales to a common nominal scale,\n",
    "# usually before average. One way to scale the data is to use an existing scikit-learn package.\n",
    "# We will use a function called min-max scaler, which scales the dataset so that all the input resources are between 0 and 1."
   ]
  },
  {
   "cell_type": "code",
   "execution_count": 6,
   "metadata": {},
   "outputs": [],
   "source": [
    "from sklearn import preprocessing\n",
    "min_max_scaler = preprocessing.MinMaxScaler()\n",
    "X_scale = min_max_scaler.fit_transform(X)\n"
   ]
  },
  {
   "cell_type": "markdown",
   "metadata": {},
   "source": [
    "#  New we need to split data for training, testing and validation.\n",
    "# In scikit-learn, we will import the train_test_split function to do this.\n",
    "# The test size will be 30% and from the test size we will use 50% as validation.\n",
    "# This mean train size will be 70%, the test size 15% and validation size 15%"
   ]
  },
  {
   "cell_type": "code",
   "execution_count": 7,
   "metadata": {},
   "outputs": [],
   "source": [
    "from sklearn.model_selection import train_test_split"
   ]
  },
  {
   "cell_type": "code",
   "execution_count": 8,
   "metadata": {},
   "outputs": [],
   "source": [
    "# train and test set (30%)\n",
    "\n",
    "X_train, X_val_and_test, Y_train, Y_val_and_test = train_test_split(X_scale, Y, test_size=0.3)\n",
    "\n",
    "# validation test (50% of test set)\n",
    "X_val, X_test, Y_val, Y_test = train_test_split(X_val_and_test, Y_val_and_test, test_size=0.5)"
   ]
  },
  {
   "cell_type": "code",
   "execution_count": 9,
   "metadata": {},
   "outputs": [
    {
     "name": "stdout",
     "output_type": "stream",
     "text": [
      "(1022, 10) (219, 10) (219, 10) (1022,) (219,) (219,)\n"
     ]
    }
   ],
   "source": [
    "print(X_train.shape, X_val.shape, X_test.shape, Y_train.shape, Y_val.shape, Y_test.shape)"
   ]
  },
  {
   "cell_type": "markdown",
   "metadata": {},
   "source": [
    "# Building a Neural Network"
   ]
  },
  {
   "cell_type": "markdown",
   "metadata": {},
   "source": [
    "# the first step in building a neural network is to define the architecture."
   ]
  },
  {
   "cell_type": "code",
   "execution_count": 10,
   "metadata": {},
   "outputs": [
    {
     "name": "stderr",
     "output_type": "stream",
     "text": [
      "Using TensorFlow backend.\n"
     ]
    },
    {
     "data": {
      "text/plain": [
       "'2.0.0'"
      ]
     },
     "execution_count": 10,
     "metadata": {},
     "output_type": "execute_result"
    }
   ],
   "source": [
    "import numpy as np\n",
    "\n",
    "from tensorflow.keras.models import Sequential\n",
    "from tensorflow.keras.layers import Dense\n",
    "#from tensorflow.train import AdamOptimizer\n",
    "from keras import optimizers\n",
    "from tensorflow.core.example.feature_pb2 import Feature\n",
    "import tensorflow as tf\n",
    "#from keras.models import Sequential\n",
    "#from keras.layers import Dense\n",
    "tf.__version__\n"
   ]
  },
  {
   "cell_type": "code",
   "execution_count": 11,
   "metadata": {},
   "outputs": [
    {
     "name": "stdout",
     "output_type": "stream",
     "text": [
      "<module 'tensorflow_core._api.v2.train' from 'C:\\\\Users\\\\bayya\\\\Anaconda3\\\\lib\\\\site-packages\\\\tensorflow_core\\\\_api\\\\v2\\\\train\\\\__init__.py'>\n"
     ]
    }
   ],
   "source": [
    "from tensorflow import train\n",
    "print (train)"
   ]
  },
  {
   "cell_type": "code",
   "execution_count": 12,
   "metadata": {},
   "outputs": [],
   "source": [
    "model = Sequential()\n",
    "model.add(Dense(100, activation=\"relu\", input_shape=(10,)))\n",
    "model.add(Dense(100, activation=\"relu\"))\n",
    "model.add(Dense(1, activation=\"sigmoid\"))\n",
    "\n",
    "model.compile(optimizer=\"adam\", loss='mean_squared_error', metrics=['accuracy'])"
   ]
  },
  {
   "cell_type": "code",
   "execution_count": 13,
   "metadata": {},
   "outputs": [
    {
     "data": {
      "image/png": "[encoded data removed]",
      "text/plain": [
       "<IPython.core.display.Image object>"
      ]
     },
     "execution_count": 13,
     "metadata": {},
     "output_type": "execute_result"
    }
   ],
   "source": [
    "from keras.utils import plot_model\n",
    "tf.keras.utils.plot_model(model, 'model.png', show_shapes=True)"
   ]
  },
  {
   "cell_type": "code",
   "execution_count": 183,
   "metadata": {},
   "outputs": [
    {
     "name": "stdout",
     "output_type": "stream",
     "text": [
      "Model: \"sequential_14\"\n",
      "_________________________________________________________________\n",
      "Layer (type)                 Output Shape              Param #   \n",
      "=================================================================\n",
      "dense_39 (Dense)             (None, 100)               1100      \n",
      "_________________________________________________________________\n",
      "dense_40 (Dense)             (None, 100)               10100     \n",
      "_________________________________________________________________\n",
      "dense_41 (Dense)             (None, 1)                 101       \n",
      "=================================================================\n",
      "Total params: 11,301\n",
      "Trainable params: 11,301\n",
      "Non-trainable params: 0\n",
      "_________________________________________________________________\n"
     ]
    }
   ],
   "source": [
    "model.summary()"
   ]
  },
  {
   "cell_type": "code",
   "execution_count": 161,
   "metadata": {},
   "outputs": [
    {
     "name": "stdout",
     "output_type": "stream",
     "text": [
      "Train on 1022 samples, validate on 219 samples\n",
      "Epoch 1/100\n",
      "1022/1022 [==============================] - 2s 2ms/sample - loss: 0.2195 - accuracy: 0.7094 - val_loss: 0.1984 - val_accuracy: 0.7991\n",
      "Epoch 2/100\n",
      "1022/1022 [==============================] - 0s 137us/sample - loss: 0.1694 - accuracy: 0.8200 - val_loss: 0.1541 - val_accuracy: 0.8356\n",
      "Epoch 3/100\n",
      "1022/1022 [==============================] - 0s 121us/sample - loss: 0.1305 - accuracy: 0.8356 - val_loss: 0.1261 - val_accuracy: 0.8721\n",
      "Epoch 4/100\n",
      "1022/1022 [==============================] - 0s 126us/sample - loss: 0.1114 - accuracy: 0.8601 - val_loss: 0.1104 - val_accuracy: 0.8676\n",
      "Epoch 5/100\n",
      "1022/1022 [==============================] - 0s 127us/sample - loss: 0.1053 - accuracy: 0.8640 - val_loss: 0.1053 - val_accuracy: 0.8721\n",
      "Epoch 6/100\n",
      "1022/1022 [==============================] - 0s 123us/sample - loss: 0.0998 - accuracy: 0.8679 - val_loss: 0.1040 - val_accuracy: 0.8676\n",
      "Epoch 7/100\n",
      "1022/1022 [==============================] - 0s 115us/sample - loss: 0.0958 - accuracy: 0.8640 - val_loss: 0.0973 - val_accuracy: 0.8630\n",
      "Epoch 8/100\n",
      "1022/1022 [==============================] - 0s 289us/sample - loss: 0.0908 - accuracy: 0.8894 - val_loss: 0.0949 - val_accuracy: 0.8584\n",
      "Epoch 9/100\n",
      "1022/1022 [==============================] - 0s 139us/sample - loss: 0.0874 - accuracy: 0.8914 - val_loss: 0.0933 - val_accuracy: 0.8721\n",
      "Epoch 10/100\n",
      "1022/1022 [==============================] - 0s 132us/sample - loss: 0.0850 - accuracy: 0.8875 - val_loss: 0.0947 - val_accuracy: 0.8721\n",
      "Epoch 11/100\n",
      "1022/1022 [==============================] - 0s 262us/sample - loss: 0.0844 - accuracy: 0.8845 - val_loss: 0.0945 - val_accuracy: 0.8813\n",
      "Epoch 12/100\n",
      "1022/1022 [==============================] - 0s 143us/sample - loss: 0.0836 - accuracy: 0.8904 - val_loss: 0.0951 - val_accuracy: 0.8676\n",
      "Epoch 13/100\n",
      "1022/1022 [==============================] - 0s 182us/sample - loss: 0.0813 - accuracy: 0.8933 - val_loss: 0.0903 - val_accuracy: 0.8630\n",
      "Epoch 14/100\n",
      "1022/1022 [==============================] - 0s 131us/sample - loss: 0.0774 - accuracy: 0.8953 - val_loss: 0.0887 - val_accuracy: 0.8630\n",
      "Epoch 15/100\n",
      "1022/1022 [==============================] - 0s 135us/sample - loss: 0.0763 - accuracy: 0.8963 - val_loss: 0.0893 - val_accuracy: 0.8676\n",
      "Epoch 16/100\n",
      "1022/1022 [==============================] - 0s 206us/sample - loss: 0.0751 - accuracy: 0.8982 - val_loss: 0.0869 - val_accuracy: 0.8767\n",
      "Epoch 17/100\n",
      "1022/1022 [==============================] - 0s 126us/sample - loss: 0.0728 - accuracy: 0.9051 - val_loss: 0.0881 - val_accuracy: 0.8813\n",
      "Epoch 18/100\n",
      "1022/1022 [==============================] - 0s 119us/sample - loss: 0.0755 - accuracy: 0.9002 - val_loss: 0.0873 - val_accuracy: 0.8858\n",
      "Epoch 19/100\n",
      "1022/1022 [==============================] - 0s 114us/sample - loss: 0.0722 - accuracy: 0.8953 - val_loss: 0.0866 - val_accuracy: 0.8630\n",
      "Epoch 20/100\n",
      "1022/1022 [==============================] - 0s 140us/sample - loss: 0.0703 - accuracy: 0.9041 - val_loss: 0.0888 - val_accuracy: 0.8813\n",
      "Epoch 21/100\n",
      "1022/1022 [==============================] - 0s 139us/sample - loss: 0.0719 - accuracy: 0.9002 - val_loss: 0.0965 - val_accuracy: 0.8630\n",
      "Epoch 22/100\n",
      "1022/1022 [==============================] - 0s 130us/sample - loss: 0.0733 - accuracy: 0.9002 - val_loss: 0.0850 - val_accuracy: 0.8767\n",
      "Epoch 23/100\n",
      "1022/1022 [==============================] - 0s 151us/sample - loss: 0.0698 - accuracy: 0.9051 - val_loss: 0.0870 - val_accuracy: 0.8721\n",
      "Epoch 24/100\n",
      "1022/1022 [==============================] - 0s 136us/sample - loss: 0.0730 - accuracy: 0.8943 - val_loss: 0.0953 - val_accuracy: 0.8630\n",
      "Epoch 25/100\n",
      "1022/1022 [==============================] - 0s 141us/sample - loss: 0.0692 - accuracy: 0.9110 - val_loss: 0.0855 - val_accuracy: 0.8721\n",
      "Epoch 26/100\n",
      "1022/1022 [==============================] - 0s 133us/sample - loss: 0.0683 - accuracy: 0.9149 - val_loss: 0.0867 - val_accuracy: 0.8721\n",
      "Epoch 27/100\n",
      "1022/1022 [==============================] - 0s 130us/sample - loss: 0.0674 - accuracy: 0.9061 - val_loss: 0.0844 - val_accuracy: 0.8904\n",
      "Epoch 28/100\n",
      "1022/1022 [==============================] - 0s 121us/sample - loss: 0.0667 - accuracy: 0.9061 - val_loss: 0.0871 - val_accuracy: 0.8904\n",
      "Epoch 29/100\n",
      "1022/1022 [==============================] - 0s 128us/sample - loss: 0.0697 - accuracy: 0.8992 - val_loss: 0.0858 - val_accuracy: 0.8904\n",
      "Epoch 30/100\n",
      "1022/1022 [==============================] - 0s 177us/sample - loss: 0.0668 - accuracy: 0.9041 - val_loss: 0.0852 - val_accuracy: 0.8950\n",
      "Epoch 31/100\n",
      "1022/1022 [==============================] - 0s 125us/sample - loss: 0.0673 - accuracy: 0.9090 - val_loss: 0.0843 - val_accuracy: 0.8858\n",
      "Epoch 32/100\n",
      "1022/1022 [==============================] - 0s 129us/sample - loss: 0.0671 - accuracy: 0.9061 - val_loss: 0.0834 - val_accuracy: 0.8858\n",
      "Epoch 33/100\n",
      "1022/1022 [==============================] - 0s 142us/sample - loss: 0.0675 - accuracy: 0.9070 - val_loss: 0.0838 - val_accuracy: 0.8904\n",
      "Epoch 34/100\n",
      "1022/1022 [==============================] - 0s 143us/sample - loss: 0.0657 - accuracy: 0.9139 - val_loss: 0.0901 - val_accuracy: 0.8721\n",
      "Epoch 35/100\n",
      "1022/1022 [==============================] - 0s 141us/sample - loss: 0.0664 - accuracy: 0.9051 - val_loss: 0.0963 - val_accuracy: 0.8813\n",
      "Epoch 36/100\n",
      "1022/1022 [==============================] - 0s 141us/sample - loss: 0.0654 - accuracy: 0.9100 - val_loss: 0.0840 - val_accuracy: 0.8904\n",
      "Epoch 37/100\n",
      "1022/1022 [==============================] - 0s 115us/sample - loss: 0.0654 - accuracy: 0.9100 - val_loss: 0.0880 - val_accuracy: 0.8858\n",
      "Epoch 38/100\n",
      "1022/1022 [==============================] - 0s 115us/sample - loss: 0.0661 - accuracy: 0.9070 - val_loss: 0.0837 - val_accuracy: 0.8858\n",
      "Epoch 39/100\n",
      "1022/1022 [==============================] - 0s 119us/sample - loss: 0.0647 - accuracy: 0.9119 - val_loss: 0.0866 - val_accuracy: 0.8721\n",
      "Epoch 40/100\n",
      "1022/1022 [==============================] - 0s 114us/sample - loss: 0.0634 - accuracy: 0.9159 - val_loss: 0.0827 - val_accuracy: 0.8950\n",
      "Epoch 41/100\n",
      "1022/1022 [==============================] - 0s 121us/sample - loss: 0.0646 - accuracy: 0.9139 - val_loss: 0.0861 - val_accuracy: 0.8767\n",
      "Epoch 42/100\n",
      "1022/1022 [==============================] - 0s 115us/sample - loss: 0.0684 - accuracy: 0.9061 - val_loss: 0.0861 - val_accuracy: 0.8858\n",
      "Epoch 43/100\n",
      "1022/1022 [==============================] - 0s 111us/sample - loss: 0.0636 - accuracy: 0.9139 - val_loss: 0.0851 - val_accuracy: 0.8858\n",
      "Epoch 44/100\n",
      "1022/1022 [==============================] - 0s 113us/sample - loss: 0.0639 - accuracy: 0.9149 - val_loss: 0.0831 - val_accuracy: 0.8858\n",
      "Epoch 45/100\n",
      "1022/1022 [==============================] - 0s 124us/sample - loss: 0.0643 - accuracy: 0.9090 - val_loss: 0.0822 - val_accuracy: 0.8858\n",
      "Epoch 46/100\n",
      "1022/1022 [==============================] - 0s 143us/sample - loss: 0.0609 - accuracy: 0.9198 - val_loss: 0.0891 - val_accuracy: 0.8767\n",
      "Epoch 47/100\n",
      "1022/1022 [==============================] - 0s 124us/sample - loss: 0.0631 - accuracy: 0.9168 - val_loss: 0.0854 - val_accuracy: 0.8813\n",
      "Epoch 48/100\n",
      "1022/1022 [==============================] - 0s 121us/sample - loss: 0.0631 - accuracy: 0.9178 - val_loss: 0.0838 - val_accuracy: 0.8858\n",
      "Epoch 49/100\n",
      "1022/1022 [==============================] - 0s 140us/sample - loss: 0.0637 - accuracy: 0.9090 - val_loss: 0.0870 - val_accuracy: 0.8858\n",
      "Epoch 50/100\n",
      "1022/1022 [==============================] - 0s 112us/sample - loss: 0.0599 - accuracy: 0.9207 - val_loss: 0.0952 - val_accuracy: 0.8721\n",
      "Epoch 51/100\n",
      "1022/1022 [==============================] - 0s 119us/sample - loss: 0.0633 - accuracy: 0.9090 - val_loss: 0.0848 - val_accuracy: 0.8858\n",
      "Epoch 52/100\n",
      "1022/1022 [==============================] - 0s 114us/sample - loss: 0.0620 - accuracy: 0.9198 - val_loss: 0.0819 - val_accuracy: 0.8950\n",
      "Epoch 53/100\n",
      "1022/1022 [==============================] - 0s 146us/sample - loss: 0.0595 - accuracy: 0.9198 - val_loss: 0.0858 - val_accuracy: 0.8858\n",
      "Epoch 54/100\n",
      "1022/1022 [==============================] - 0s 175us/sample - loss: 0.0618 - accuracy: 0.9178 - val_loss: 0.0908 - val_accuracy: 0.8858\n",
      "Epoch 55/100\n",
      "1022/1022 [==============================] - 0s 113us/sample - loss: 0.0610 - accuracy: 0.9168 - val_loss: 0.0855 - val_accuracy: 0.8858\n",
      "Epoch 56/100\n",
      "1022/1022 [==============================] - 0s 120us/sample - loss: 0.0674 - accuracy: 0.9090 - val_loss: 0.0823 - val_accuracy: 0.8904\n",
      "Epoch 57/100\n",
      "1022/1022 [==============================] - 0s 109us/sample - loss: 0.0609 - accuracy: 0.9129 - val_loss: 0.0827 - val_accuracy: 0.8904\n",
      "Epoch 58/100\n",
      "1022/1022 [==============================] - 0s 110us/sample - loss: 0.0616 - accuracy: 0.9168 - val_loss: 0.0821 - val_accuracy: 0.8904\n",
      "Epoch 59/100\n",
      "1022/1022 [==============================] - 0s 124us/sample - loss: 0.0601 - accuracy: 0.9168 - val_loss: 0.0822 - val_accuracy: 0.8904\n",
      "Epoch 60/100\n",
      "1022/1022 [==============================] - 0s 113us/sample - loss: 0.0612 - accuracy: 0.9188 - val_loss: 0.0824 - val_accuracy: 0.8904\n",
      "Epoch 61/100\n",
      "1022/1022 [==============================] - 0s 123us/sample - loss: 0.0599 - accuracy: 0.9227 - val_loss: 0.0856 - val_accuracy: 0.8858\n",
      "Epoch 62/100\n",
      "1022/1022 [==============================] - 0s 129us/sample - loss: 0.0601 - accuracy: 0.9207 - val_loss: 0.0856 - val_accuracy: 0.8904\n",
      "Epoch 63/100\n",
      "1022/1022 [==============================] - 0s 120us/sample - loss: 0.0603 - accuracy: 0.9188 - val_loss: 0.0999 - val_accuracy: 0.8676\n",
      "Epoch 64/100\n",
      "1022/1022 [==============================] - 0s 114us/sample - loss: 0.0626 - accuracy: 0.9119 - val_loss: 0.0818 - val_accuracy: 0.8858\n",
      "Epoch 65/100\n",
      "1022/1022 [==============================] - 0s 138us/sample - loss: 0.0606 - accuracy: 0.9149 - val_loss: 0.0856 - val_accuracy: 0.8904\n",
      "Epoch 66/100\n",
      "1022/1022 [==============================] - 0s 127us/sample - loss: 0.0638 - accuracy: 0.9051 - val_loss: 0.0831 - val_accuracy: 0.8950\n",
      "Epoch 67/100\n",
      "1022/1022 [==============================] - 0s 138us/sample - loss: 0.0595 - accuracy: 0.9276 - val_loss: 0.0863 - val_accuracy: 0.8904\n",
      "Epoch 68/100\n",
      "1022/1022 [==============================] - 0s 128us/sample - loss: 0.0618 - accuracy: 0.9188 - val_loss: 0.0822 - val_accuracy: 0.8904\n",
      "Epoch 69/100\n",
      "1022/1022 [==============================] - 0s 151us/sample - loss: 0.0587 - accuracy: 0.9198 - val_loss: 0.0824 - val_accuracy: 0.8904\n",
      "Epoch 70/100\n",
      "1022/1022 [==============================] - 0s 112us/sample - loss: 0.0595 - accuracy: 0.9207 - val_loss: 0.0912 - val_accuracy: 0.8813\n",
      "Epoch 71/100\n",
      "1022/1022 [==============================] - ETA: 0s - loss: 0.0654 - accuracy: 0.90 - 0s 115us/sample - loss: 0.0606 - accuracy: 0.9217 - val_loss: 0.0820 - val_accuracy: 0.8950\n",
      "Epoch 72/100\n",
      "1022/1022 [==============================] - 0s 110us/sample - loss: 0.0567 - accuracy: 0.9247 - val_loss: 0.0847 - val_accuracy: 0.8950\n",
      "Epoch 73/100\n",
      "1022/1022 [==============================] - 0s 107us/sample - loss: 0.0594 - accuracy: 0.9168 - val_loss: 0.0847 - val_accuracy: 0.8950\n",
      "Epoch 74/100\n",
      "1022/1022 [==============================] - 0s 108us/sample - loss: 0.0587 - accuracy: 0.9188 - val_loss: 0.0826 - val_accuracy: 0.8904\n",
      "Epoch 75/100\n",
      "1022/1022 [==============================] - 0s 108us/sample - loss: 0.0567 - accuracy: 0.9237 - val_loss: 0.0871 - val_accuracy: 0.8813\n",
      "Epoch 76/100\n",
      "1022/1022 [==============================] - 0s 108us/sample - loss: 0.0600 - accuracy: 0.9188 - val_loss: 0.0824 - val_accuracy: 0.8995\n",
      "Epoch 77/100\n",
      "1022/1022 [==============================] - 0s 106us/sample - loss: 0.0565 - accuracy: 0.9286 - val_loss: 0.0827 - val_accuracy: 0.8858\n",
      "Epoch 78/100\n",
      "1022/1022 [==============================] - 0s 110us/sample - loss: 0.0567 - accuracy: 0.9237 - val_loss: 0.0811 - val_accuracy: 0.8904\n",
      "Epoch 79/100\n",
      "1022/1022 [==============================] - 0s 108us/sample - loss: 0.0549 - accuracy: 0.9354 - val_loss: 0.0855 - val_accuracy: 0.8813\n",
      "Epoch 80/100\n",
      "1022/1022 [==============================] - 0s 121us/sample - loss: 0.0598 - accuracy: 0.9227 - val_loss: 0.0826 - val_accuracy: 0.8858\n",
      "Epoch 81/100\n",
      "1022/1022 [==============================] - 0s 114us/sample - loss: 0.0549 - accuracy: 0.9325 - val_loss: 0.0824 - val_accuracy: 0.8904\n",
      "Epoch 82/100\n",
      "1022/1022 [==============================] - 0s 116us/sample - loss: 0.0563 - accuracy: 0.9237 - val_loss: 0.0823 - val_accuracy: 0.8858\n",
      "Epoch 83/100\n",
      "1022/1022 [==============================] - 0s 114us/sample - loss: 0.0570 - accuracy: 0.9295 - val_loss: 0.0874 - val_accuracy: 0.8904\n",
      "Epoch 84/100\n",
      "1022/1022 [==============================] - 0s 107us/sample - loss: 0.0552 - accuracy: 0.9286 - val_loss: 0.0819 - val_accuracy: 0.8950\n",
      "Epoch 85/100\n",
      "1022/1022 [==============================] - 0s 110us/sample - loss: 0.0546 - accuracy: 0.9305 - val_loss: 0.0857 - val_accuracy: 0.8950\n",
      "Epoch 86/100\n",
      "1022/1022 [==============================] - 0s 108us/sample - loss: 0.0544 - accuracy: 0.9335 - val_loss: 0.0838 - val_accuracy: 0.9041\n",
      "Epoch 87/100\n",
      "1022/1022 [==============================] - 0s 110us/sample - loss: 0.0563 - accuracy: 0.9286 - val_loss: 0.0823 - val_accuracy: 0.9087\n",
      "Epoch 88/100\n",
      "1022/1022 [==============================] - 0s 108us/sample - loss: 0.0592 - accuracy: 0.9237 - val_loss: 0.0849 - val_accuracy: 0.8858\n",
      "Epoch 89/100\n",
      "1022/1022 [==============================] - 0s 113us/sample - loss: 0.0558 - accuracy: 0.9276 - val_loss: 0.0828 - val_accuracy: 0.8858\n",
      "Epoch 90/100\n",
      "1022/1022 [==============================] - 0s 113us/sample - loss: 0.0578 - accuracy: 0.9237 - val_loss: 0.0854 - val_accuracy: 0.8813\n",
      "Epoch 91/100\n",
      "1022/1022 [==============================] - 0s 123us/sample - loss: 0.0541 - accuracy: 0.9295 - val_loss: 0.0858 - val_accuracy: 0.9087\n",
      "Epoch 92/100\n",
      "1022/1022 [==============================] - 0s 112us/sample - loss: 0.0546 - accuracy: 0.9325 - val_loss: 0.0851 - val_accuracy: 0.8813\n",
      "Epoch 93/100\n",
      "1022/1022 [==============================] - 0s 109us/sample - loss: 0.0560 - accuracy: 0.9305 - val_loss: 0.0905 - val_accuracy: 0.8950\n",
      "Epoch 94/100\n",
      "1022/1022 [==============================] - 0s 109us/sample - loss: 0.0542 - accuracy: 0.9364 - val_loss: 0.0826 - val_accuracy: 0.8904\n",
      "Epoch 95/100\n",
      "1022/1022 [==============================] - 0s 114us/sample - loss: 0.0527 - accuracy: 0.9335 - val_loss: 0.0830 - val_accuracy: 0.8904\n",
      "Epoch 96/100\n",
      "1022/1022 [==============================] - 0s 111us/sample - loss: 0.0536 - accuracy: 0.9315 - val_loss: 0.0830 - val_accuracy: 0.8950\n",
      "Epoch 97/100\n",
      "1022/1022 [==============================] - 0s 109us/sample - loss: 0.0532 - accuracy: 0.9305 - val_loss: 0.0876 - val_accuracy: 0.8904\n",
      "Epoch 98/100\n",
      "1022/1022 [==============================] - 0s 113us/sample - loss: 0.0542 - accuracy: 0.9286 - val_loss: 0.0878 - val_accuracy: 0.8813\n",
      "Epoch 99/100\n",
      "1022/1022 [==============================] - 0s 108us/sample - loss: 0.0521 - accuracy: 0.9364 - val_loss: 0.0872 - val_accuracy: 0.8995\n",
      "Epoch 100/100\n",
      "1022/1022 [==============================] - 0s 110us/sample - loss: 0.0555 - accuracy: 0.9315 - val_loss: 0.0839 - val_accuracy: 0.9041\n"
     ]
    }
   ],
   "source": [
    "exeu = model.fit(X_train, Y_train, batch_size=32, epochs=100, validation_data=(X_val, Y_val))"
   ]
  },
  {
   "cell_type": "code",
   "execution_count": 162,
   "metadata": {},
   "outputs": [
    {
     "name": "stdout",
     "output_type": "stream",
     "text": [
      "\r",
      "219/1 [==========================================================================================================================================================================================================================================================================================================================================================================================================================================================================================================================================================================================================================================================================================================================================================================================================================================================================================================================================================================================================================================================================================================================================================================================================================================================================================================================================================================================================================================================================================================================================================================================================================================================================================================================================================================================================================================================================================================================================================================================================================================================================================================================================================================================================================================================================================================================================================================================================================================================================================================================================================================================================================================================================================================================================================================================================================================================================================================================================================================================================================================================================================================================================================================================================================================================================================================================================================================================================================================================================================================================================================================================================================================================================================================================================================================================================================================================================================================================================================================================================================================================================================================================================================================================================================================================================================================================================================================================================================================================================================================================================================================================================================================================================================================================================================================================================================================================================================================================================================================================================================================================================================================================================================================================================================================================================================================================================================================================================================================================================================================================================================================================================================================================================================================================================================================================================================================================================================================================================================================================================================================================================================================================================================================================================================================================================================================================================================================================================================================================================================================================================================================================================================================================================================================================================================================================================================================] - 0s 59us/sample - loss: 0.0713 - accuracy: 0.9041\n"
     ]
    },
    {
     "data": {
      "text/plain": [
       "[0.06769138486145838, 0.9041096]"
      ]
     },
     "execution_count": 162,
     "metadata": {},
     "output_type": "execute_result"
    }
   ],
   "source": [
    "model.evaluate(X_test, Y_test)"
   ]
  },
  {
   "cell_type": "code",
   "execution_count": 163,
   "metadata": {},
   "outputs": [
    {
     "data": {
      "text/plain": [
       "dict_keys(['loss', 'accuracy', 'val_loss', 'val_accuracy'])"
      ]
     },
     "execution_count": 163,
     "metadata": {},
     "output_type": "execute_result"
    }
   ],
   "source": [
    "exeu.history.keys()"
   ]
  },
  {
   "cell_type": "code",
   "execution_count": 164,
   "metadata": {},
   "outputs": [
    {
     "data": {
      "text/plain": [
       "[<matplotlib.lines.Line2D at 0x20f79ed3988>]"
      ]
     },
     "execution_count": 164,
     "metadata": {},
     "output_type": "execute_result"
    },
    {
     "data": {
      "image/png": "[encoded data removed]",
      "text/plain": [
       "<Figure size 432x288 with 1 Axes>"
      ]
     },
     "metadata": {},
     "output_type": "display_data"
    }
   ],
   "source": [
    "import matplotlib.pyplot as plt\n",
    "plt.plot(exeu.history['val_accuracy'])\n",
    "plt.plot(exeu.history['accuracy'])"
   ]
  },
  {
   "cell_type": "code",
   "execution_count": 168,
   "metadata": {},
   "outputs": [
    {
     "data": {
      "text/plain": [
       "array([[0.9995431]], dtype=float32)"
      ]
     },
     "execution_count": 168,
     "metadata": {},
     "output_type": "execute_result"
    }
   ],
   "source": [
    "# run prediction at local\n",
    "prediction = model.predict(X_test[[15]])\n",
    "prediction"
   ]
  },
  {
   "cell_type": "code",
   "execution_count": null,
   "metadata": {},
   "outputs": [],
   "source": []
  },
  {
   "cell_type": "code",
   "execution_count": null,
   "metadata": {},
   "outputs": [],
   "source": []
  }
 ],
 "metadata": {
  "kernelspec": {
   "display_name": "Python 3",
   "language": "python",
   "name": "python3"
  },
  "language_info": {
   "codemirror_mode": {
    "name": "ipython",
    "version": 3
   },
   "file_extension": ".py",
   "mimetype": "text/x-python",
   "name": "python",
   "nbconvert_exporter": "python",
   "pygments_lexer": "ipython3",
   "version": "3.7.4"
  }
 },
 "nbformat": 4,
 "nbformat_minor": 2
}
