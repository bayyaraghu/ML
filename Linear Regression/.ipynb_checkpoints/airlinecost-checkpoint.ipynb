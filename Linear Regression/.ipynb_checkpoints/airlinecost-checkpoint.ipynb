{
 "cells": [
  {
   "cell_type": "code",
   "execution_count": 92,
   "metadata": {},
   "outputs": [],
   "source": [
    "import pandas as pd; sns.set(color_codes=True)\n",
    "import matplotlib.pyplot as plt;\n",
    "import seaborn as sns;"
   ]
  },
  {
   "cell_type": "code",
   "execution_count": 93,
   "metadata": {},
   "outputs": [],
   "source": [
    "# Read Airline data"
   ]
  },
  {
   "cell_type": "code",
   "execution_count": 94,
   "metadata": {},
   "outputs": [
    {
     "name": "stdout",
     "output_type": "stream",
     "text": [
      "    Passangers  Cost\n",
      "0           61  4.28\n",
      "1           63  4.08\n",
      "2           67  4.42\n",
      "3           69  4.17\n",
      "4           70  4.48\n",
      "5           74  4.30\n",
      "6           76  4.82\n",
      "7           81  4.70\n",
      "8           86  5.11\n",
      "9           91  5.13\n",
      "10          95  5.64\n",
      "11          97  5.56\n"
     ]
    }
   ],
   "source": [
    "# Cost of airline is in ($1000)\n",
    "aircost = pd.read_csv('airlinecost.csv')\n",
    "print(aircost)"
   ]
  },
  {
   "cell_type": "code",
   "execution_count": 87,
   "metadata": {},
   "outputs": [],
   "source": [
    "# Scatter plot"
   ]
  },
  {
   "cell_type": "code",
   "execution_count": 91,
   "metadata": {},
   "outputs": [
    {
     "data": {
      "image/png": "[encoded data removed]",
      "text/plain": [
       "<Figure size 432x288 with 1 Axes>"
      ]
     },
     "metadata": {},
     "output_type": "display_data"
    }
   ],
   "source": [
    "airplot = sns.regplot(x=\"Cost\", y=\"Passangers\", data=aircost)"
   ]
  },
  {
   "cell_type": "code",
   "execution_count": 89,
   "metadata": {},
   "outputs": [
    {
     "name": "stdout",
     "output_type": "stream",
     "text": [
      "    Passangers  Cost  Passanger_square  Passanger_Cost\n",
      "0           61  4.28              3721          261.08\n",
      "1           63  4.08              3969          257.04\n",
      "2           67  4.42              4489          296.14\n",
      "3           69  4.17              4761          287.73\n",
      "4           70  4.48              4900          313.60\n",
      "5           74  4.30              5476          318.20\n",
      "6           76  4.82              5776          366.32\n",
      "7           81  4.70              6561          380.70\n",
      "8           86  5.11              7396          439.46\n",
      "9           91  5.13              8281          466.83\n",
      "10          95  5.64              9025          535.80\n",
      "11          97  5.56              9409          539.32\n"
     ]
    }
   ],
   "source": [
    "# Create new column with passinger square \n",
    "\n",
    "aircost['Passanger_square']=aircost['Passangers']**2\n",
    "aircost['Passanger_Cost']=aircost['Passangers']*aircost['Cost']\n",
    "print(aircost)"
   ]
  },
  {
   "cell_type": "code",
   "execution_count": 90,
   "metadata": {},
   "outputs": [
    {
     "name": "stdout",
     "output_type": "stream",
     "text": [
      "       Passangers   Cost  Passanger_square  Passanger_Cost\n",
      "0            61.0   4.28            3721.0          261.08\n",
      "1            63.0   4.08            3969.0          257.04\n",
      "2            67.0   4.42            4489.0          296.14\n",
      "3            69.0   4.17            4761.0          287.73\n",
      "4            70.0   4.48            4900.0          313.60\n",
      "5            74.0   4.30            5476.0          318.20\n",
      "6            76.0   4.82            5776.0          366.32\n",
      "7            81.0   4.70            6561.0          380.70\n",
      "8            86.0   5.11            7396.0          439.46\n",
      "9            91.0   5.13            8281.0          466.83\n",
      "10           95.0   5.64            9025.0          535.80\n",
      "11           97.0   5.56            9409.0          539.32\n",
      "Total       930.0  56.69           73764.0         4462.22\n"
     ]
    }
   ],
   "source": [
    "# Calculating the sum total for each columns \n",
    "\n",
    "aircost.loc['Total', 'Cost'] = aircost['Cost'].sum()\n",
    "aircost.loc['Total', 'Passangers'] = aircost['Passangers'].sum()\n",
    "aircost.loc['Total', 'Passanger_square'] = aircost['Passanger_square'].sum()\n",
    "aircost.loc['Total', 'Passanger_Cost'] = aircost['Passanger_Cost'].sum()\n",
    "print(aircost)"
   ]
  },
  {
   "cell_type": "code",
   "execution_count": null,
   "metadata": {},
   "outputs": [],
   "source": []
  },
  {
   "cell_type": "code",
   "execution_count": null,
   "metadata": {},
   "outputs": [],
   "source": []
  },
  {
   "cell_type": "code",
   "execution_count": null,
   "metadata": {},
   "outputs": [],
   "source": []
  },
  {
   "cell_type": "code",
   "execution_count": null,
   "metadata": {},
   "outputs": [],
   "source": []
  },
  {
   "cell_type": "code",
   "execution_count": null,
   "metadata": {},
   "outputs": [],
   "source": []
  },
  {
   "cell_type": "code",
   "execution_count": null,
   "metadata": {},
   "outputs": [],
   "source": []
  },
  {
   "cell_type": "code",
   "execution_count": 44,
   "metadata": {},
   "outputs": [
    {
     "name": "stdout",
     "output_type": "stream",
     "text": [
      "    Interest  FuturesIndex\n",
      "0       7.43           221\n",
      "1       7.48           222\n",
      "2       8.00           226\n",
      "3       7.75           225\n",
      "4       7.60           224\n",
      "5       7.63           223\n",
      "6       7.68           223\n",
      "7       7.67           226\n",
      "8       7.59           226\n",
      "9       8.07           235\n",
      "10      8.03           233\n",
      "11      8.00           241\n"
     ]
    }
   ],
   "source": [
    "# VERIFY FROM EXCEL SHEET \n",
    "index = pd.read_csv('index.csv')\n",
    "print(index)"
   ]
  },
  {
   "cell_type": "code",
   "execution_count": 45,
   "metadata": {},
   "outputs": [
    {
     "data": {
      "image/png": "[encoded data removed]",
      "text/plain": [
       "<Figure size 432x288 with 1 Axes>"
      ]
     },
     "metadata": {},
     "output_type": "display_data"
    }
   ],
   "source": [
    "indexplot = sns.regplot(x=\"Interest\", y=\"FuturesIndex\", data=index)"
   ]
  },
  {
   "cell_type": "code",
   "execution_count": null,
   "metadata": {},
   "outputs": [],
   "source": []
  }
 ],
 "metadata": {
  "kernelspec": {
   "display_name": "Python 3",
   "language": "python",
   "name": "python3"
  },
  "language_info": {
   "codemirror_mode": {
    "name": "ipython",
    "version": 3
   },
   "file_extension": ".py",
   "mimetype": "text/x-python",
   "name": "python",
   "nbconvert_exporter": "python",
   "pygments_lexer": "ipython3",
   "version": "3.7.4"
  }
 },
 "nbformat": 4,
 "nbformat_minor": 2
}
